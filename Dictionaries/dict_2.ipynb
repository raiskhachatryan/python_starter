{
 "cells": [
  {
   "cell_type": "code",
   "execution_count": 1,
   "metadata": {},
   "outputs": [
    {
     "name": "stdout",
     "output_type": "stream",
     "text": [
      "species : Dog\n",
      "owner : Jen\n",
      "name_pet : Chiko\n",
      "\t_____\n",
      "species : Cat\n",
      "owner : Sarah\n",
      "name_pet : Lucifer\n",
      "\t_____\n",
      "species : Rabbit\n",
      "owner : Jen\n",
      "name_pet : Bunny\n",
      "\t_____\n"
     ]
    }
   ],
   "source": [
    "pets = []\n",
    "pets_1 = {\n",
    "    'species': 'dog',\n",
    "    'owner': 'jen',\n",
    "    'name_pet': 'chiko',\n",
    "}\n",
    "pets.append(pets_1)\n",
    "pets_2 = {\n",
    "    'species': 'cat',\n",
    "    'owner': 'sarah',\n",
    "    'name_pet': 'lucifer',\n",
    "}\n",
    "pets.append(pets_2)\n",
    "pets_3 = {\n",
    "    'species': 'rabbit',\n",
    "    'owner': 'jen',\n",
    "    'name_pet': 'bunny',\n",
    "    \n",
    "}\n",
    "pets.append(pets_3)\n",
    "\n",
    "for pet in pets:\n",
    "    for k, v in pet.items():\n",
    "        print(k, \":\", v.title())\n",
    "    print(\"\\t_____\")    \n"
   ]
  },
  {
   "cell_type": "code",
   "execution_count": 2,
   "metadata": {},
   "outputs": [
    {
     "name": "stdout",
     "output_type": "stream",
     "text": [
      "Kate's favorite numbers are  [1, 2, 4]\n",
      "Sarah's favorite numbers are  [13, 43, 5]\n",
      "Albert's favorite numbers are  [7, 9, 12]\n"
     ]
    }
   ],
   "source": [
    "favorite_number = {\n",
    "    'person_1': {\n",
    "        'name': 'kate',\n",
    "        'number':[1, 2, 4],       #list\n",
    "        \n",
    "    },\n",
    "    \n",
    "    'person_2':{\n",
    "        'name': 'sarah',\n",
    "        'number':[13, 43, 5],\n",
    "    },\n",
    "    \n",
    "    'person_3':{\n",
    "        'name': 'albert',\n",
    "        'number':[7, 9, 12],\n",
    "    }\n",
    "    \n",
    "    \n",
    "}\n",
    "for person, info in favorite_number.items():\n",
    "    for p_info in info.values():\n",
    "        x = str(p_info)\n",
    "        \n",
    "    print(info['name'].title() + \"\\'s favorite numbers are \", info['number'])\n",
    "    "
   ]
  },
  {
   "cell_type": "code",
   "execution_count": 3,
   "metadata": {},
   "outputs": [
    {
     "name": "stdout",
     "output_type": "stream",
     "text": [
      "\tInformation of  Moscow\n",
      "country : Russia\n",
      "population : 144000000\n",
      "fact : Red Square\n",
      "\tInformation of  Yrevan\n",
      "country : Armenia\n",
      "population : 3000000\n",
      "fact : Cascade\n",
      "\tInformation of  Paris\n",
      "country : France\n",
      "population : 67000000\n",
      "fact : Eiffel\n"
     ]
    }
   ],
   "source": [
    "cities = {\n",
    "    'moscow':{\n",
    "        'country':'russia',\n",
    "        'population':'144000000',\n",
    "        'fact':'red square',\n",
    "    },\n",
    "    'yrevan':{\n",
    "        'country':'armenia',\n",
    "        'population':'3000000',\n",
    "        'fact':'Cascade',\n",
    "    },\n",
    "    'paris':{\n",
    "        'country':'france',\n",
    "        'population':'67000000',\n",
    "        'fact':'eiffel',\n",
    "    }\n",
    "}\n",
    "\n",
    "for country, info_country in cities.items():\n",
    "    print(\"\\tInformation of \", country.title())\n",
    "    for k,v in info_country.items():\n",
    "        print(k + ' : ' + v.title())\n",
    "    \n",
    "        "
   ]
  },
  {
   "cell_type": "code",
   "execution_count": null,
   "metadata": {},
   "outputs": [],
   "source": []
  }
 ],
 "metadata": {
  "kernelspec": {
   "display_name": "Python 3",
   "language": "python",
   "name": "python3"
  },
  "language_info": {
   "codemirror_mode": {
    "name": "ipython",
    "version": 3
   },
   "file_extension": ".py",
   "mimetype": "text/x-python",
   "name": "python",
   "nbconvert_exporter": "python",
   "pygments_lexer": "ipython3",
   "version": "3.7.0"
  }
 },
 "nbformat": 4,
 "nbformat_minor": 2
}
