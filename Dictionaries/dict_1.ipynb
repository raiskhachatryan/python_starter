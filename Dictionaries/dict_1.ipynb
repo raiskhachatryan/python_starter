{
 "cells": [
  {
   "cell_type": "code",
   "execution_count": 2,
   "metadata": {},
   "outputs": [
    {
     "name": "stdout",
     "output_type": "stream",
     "text": [
      "{'first_name': 'Liza', 'last_name': 'Smit', 'age': '23', 'city': 'London'}\n"
     ]
    }
   ],
   "source": [
    "person = {\n",
    "    'first_name': 'Liza',\n",
    "    'last_name': 'Smit',\n",
    "    'age': '23',\n",
    "    'city': 'London'\n",
    "    \n",
    "}\n",
    "\n",
    "print(person)"
   ]
  },
  {
   "cell_type": "code",
   "execution_count": 3,
   "metadata": {},
   "outputs": [
    {
     "name": "stdout",
     "output_type": "stream",
     "text": [
      "Mick's favorite number is 1\n",
      "Anna's favorite number is 6\n",
      "Liza's favorite number is 10\n"
     ]
    }
   ],
   "source": [
    "favorite_numbers = {\n",
    "    'mick' : '1',\n",
    "    'anna' : '6',\n",
    "    'liza' : '10'\n",
    "}\n",
    "\n",
    "#print(\"Mick's favorite number is \" + favorite_numbers['Mick'])\n",
    "\n",
    "for key,value in favorite_numbers.items():\n",
    "    print(key.title() + \"\\'s favorite number is\", value)"
   ]
  },
  {
   "cell_type": "code",
   "execution_count": 4,
   "metadata": {},
   "outputs": [
    {
     "name": "stdout",
     "output_type": "stream",
     "text": [
      "The Nile runs through Egypt\n",
      "The Amazon runs through Brazil\n",
      "The Yangtze runs through China\n",
      "The Mekong runs through China\n"
     ]
    }
   ],
   "source": [
    "rivers = {\n",
    "    'nile': 'egypt',\n",
    "    'amazon' : 'brazil',\n",
    "    'yangtze' : 'china',\n",
    "    'Mekong' : 'china',\n",
    "    \n",
    "}\n",
    "for key, value in rivers.items():\n",
    "    print(\"The %s runs through %s\" %(key.title(), value.title()))\n",
    "\n"
   ]
  },
  {
   "cell_type": "code",
   "execution_count": 5,
   "metadata": {},
   "outputs": [
    {
     "name": "stdout",
     "output_type": "stream",
     "text": [
      "{'color': 'green', 'points': 5}\n",
      "{'color': 'yellow', 'points': 10}\n",
      "{'color': 'red', 'points': 15}\n"
     ]
    }
   ],
   "source": [
    "alien_0 = {'color': 'green', 'points': 5}\n",
    "alien_1 = {'color': 'yellow', 'points': 10}\n",
    "alien_2 = {'color': 'red', 'points': 15}\n",
    "\n",
    "aliens = [alien_0, alien_1, alien_2]\n",
    "for alien in aliens:\n",
    "    print(alien)\n",
    "    "
   ]
  },
  {
   "cell_type": "code",
   "execution_count": 6,
   "metadata": {},
   "outputs": [
    {
     "name": "stdout",
     "output_type": "stream",
     "text": [
      "\tInformation\n",
      "first_name: Liza\n",
      "last_name: Smit\n",
      "age: 23\n",
      "city: London\n",
      "\n",
      "\n",
      "\tInformation\n",
      "first_name: Albert\n",
      "last_name: Black\n",
      "age: 40\n",
      "city: Brazil\n",
      "\n",
      "\n",
      "\tInformation\n",
      "first_name: John\n",
      "last_name: Brawn\n",
      "age: 31\n",
      "city: Moscow\n",
      "\n",
      "\n"
     ]
    }
   ],
   "source": [
    "people = []\n",
    "person_1 = {\n",
    "    'first_name': 'Liza',\n",
    "    'last_name': 'Smit',\n",
    "    'age': '23',\n",
    "    'city': 'London'\n",
    "    \n",
    "}\n",
    "people.append(person_1)\n",
    "\n",
    "person_2 = {\n",
    "    'first_name': 'Albert',\n",
    "    'last_name': 'Black',\n",
    "    'age': '40',\n",
    "    'city': 'Brazil'\n",
    "    \n",
    "}\n",
    "people.append(person_2)\n",
    "\n",
    "person_3 = {\n",
    "    'first_name': 'John',\n",
    "    'last_name': 'Brawn',\n",
    "    'age': '31',\n",
    "    'city': 'Moscow'\n",
    "    \n",
    "}\n",
    "\n",
    "people.append(person_3)\n",
    "\n",
    "\n",
    " \n",
    "for person in people:\n",
    "    print(\"\\tInformation\")\n",
    "    for k, v in person.items():\n",
    "        \n",
    "        print(k + \": \" + v)\n",
    "    print(\"\\n\")  "
   ]
  },
  {
   "cell_type": "code",
   "execution_count": 7,
   "metadata": {},
   "outputs": [
    {
     "name": "stdout",
     "output_type": "stream",
     "text": [
      "jen:\n",
      "\t_ pyhton\n",
      "\t_ ruby\n",
      "sarah:\n",
      "\t_ c\n",
      "edward:\n",
      "\t_ ruby\n",
      "\t_ go\n",
      "phil:\n",
      "\t_ python\n",
      "\t_ haskell\n"
     ]
    }
   ],
   "source": [
    "from collections import OrderedDict\n",
    "\n",
    "fav_languages = OrderedDict()\n",
    "fav_languages['jen'] = ['pyhton', 'ruby']\n",
    "fav_languages['sarah'] = ['c']\n",
    "fav_languages['edward'] = ['ruby', 'go']\n",
    "fav_languages['phil'] = ['python', 'haskell']\n",
    "\n",
    "for name, langs in fav_languages.items():\n",
    "    print(name + \":\")\n",
    "    for lang in langs:\n",
    "        print(\"\\t_ \" + lang)\n"
   ]
  },
  {
   "cell_type": "code",
   "execution_count": null,
   "metadata": {},
   "outputs": [],
   "source": []
  }
 ],
 "metadata": {
  "kernelspec": {
   "display_name": "Python 3",
   "language": "python",
   "name": "python3"
  },
  "language_info": {
   "codemirror_mode": {
    "name": "ipython",
    "version": 3
   },
   "file_extension": ".py",
   "mimetype": "text/x-python",
   "name": "python",
   "nbconvert_exporter": "python",
   "pygments_lexer": "ipython3",
   "version": "3.7.0"
  }
 },
 "nbformat": 4,
 "nbformat_minor": 2
}
