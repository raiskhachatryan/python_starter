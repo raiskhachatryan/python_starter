{
 "cells": [
  {
   "cell_type": "code",
   "execution_count": 1,
   "metadata": {},
   "outputs": [
    {
     "name": "stdout",
     "output_type": "stream",
     "text": [
      "Masha I invite you to dinner\n",
      "Kira I invite you to dinner\n",
      "Anna I invite you to dinner\n"
     ]
    }
   ],
   "source": [
    "guests = [\"Masha\", \"Kira\", \"Anna\"]\n",
    "for i in guests:\n",
    "    print(i, \"I invite you to dinner\")\n",
    "      "
   ]
  },
  {
   "cell_type": "code",
   "execution_count": 2,
   "metadata": {},
   "outputs": [
    {
     "name": "stdout",
     "output_type": "stream",
     "text": [
      "Masha I invite you to dinner\n",
      "Anna I invite you to dinner\n",
      "Inga I invite you to dinner\n"
     ]
    }
   ],
   "source": [
    "import random\n",
    "list_guests = [\"Masha\", \"Kira\", \"Anna\"]\n",
    "for i in list_guests:\n",
    "    \n",
    "    rand_guest = random.choice(list_guests)\n",
    "    list_guests.remove(rand_guest)\n",
    "    list_guests.append(\"Inga\")\n",
    "    print(i, \"I invite you to dinner\")\n"
   ]
  },
  {
   "cell_type": "code",
   "execution_count": 3,
   "metadata": {},
   "outputs": [
    {
     "data": {
      "text/plain": [
       "['Masha', 'Kira', 'Anna', 'Lisa', 'Mark', 'Petya', 'Misha']"
      ]
     },
     "execution_count": 3,
     "metadata": {},
     "output_type": "execute_result"
    }
   ],
   "source": [
    "list_guests = [\"Masha\", \"Kira\", \"Anna\"]\n",
    "add_guests = [\"Lisa\", \"Mark\", \"Petya\", \"Misha\"]\n",
    "for i in add_guests:\n",
    "    list_guests.append(i)\n",
    "list_guests\n"
   ]
  },
  {
   "cell_type": "code",
   "execution_count": 4,
   "metadata": {},
   "outputs": [
    {
     "data": {
      "text/plain": [
       "['Oleg', 'Masha', 'Kira', 'Anna', 'Lisa', 'Mark', 'Petya', 'Misha']"
      ]
     },
     "execution_count": 4,
     "metadata": {},
     "output_type": "execute_result"
    }
   ],
   "source": [
    "list_guests.insert(0, \"Oleg\")  #add one new guest to the beginning of the list.\n",
    "list_guests"
   ]
  },
  {
   "cell_type": "code",
   "execution_count": 5,
   "metadata": {},
   "outputs": [
    {
     "name": "stdout",
     "output_type": "stream",
     "text": [
      "['Oleg', 'Masha', 'Kira', 'Anna', 'Narek', 'Lisa', 'Mark', 'Petya', 'Misha']\n"
     ]
    }
   ],
   "source": [
    "list_guests.insert(int(len(list_guests) / 2), \"Narek\")       #add one new guest to the middle of the list.\n",
    "new_list_guests = list_guests\n",
    "print(new_list_guests)"
   ]
  },
  {
   "cell_type": "code",
   "execution_count": 6,
   "metadata": {},
   "outputs": [
    {
     "name": "stdout",
     "output_type": "stream",
     "text": [
      "Oleg I invite you to dinner\n",
      "Masha I invite you to dinner\n",
      "Kira I invite you to dinner\n",
      "Anna I invite you to dinner\n",
      "Narek I invite you to dinner\n",
      "Lisa I invite you to dinner\n",
      "Mark I invite you to dinner\n",
      "Petya I invite you to dinner\n",
      "Misha I invite you to dinner\n"
     ]
    }
   ],
   "source": [
    "\n",
    "for j in new_list_guests:          #new set of invitation messages, one for each person in the list.\n",
    "    print(j, \"I invite you to dinner\")"
   ]
  },
  {
   "cell_type": "code",
   "execution_count": 7,
   "metadata": {},
   "outputs": [
    {
     "name": "stdout",
     "output_type": "stream",
     "text": [
      "Petya I am sorry I can’t invite you to dinner.\n",
      "Misha I am sorry I can’t invite you to dinner.\n",
      "Mark I am sorry I can’t invite you to dinner.\n",
      "Lisa I am sorry I can’t invite you to dinner.\n",
      "Anna I am sorry I can’t invite you to dinner.\n",
      "Kira I am sorry I can’t invite you to dinner.\n",
      "Oleg The invitation to dinner is valid.\n",
      "Masha The invitation to dinner is valid.\n"
     ]
    }
   ],
   "source": [
    "new_list_guests = ['Oleg', 'Masha', 'Kira', 'Anna', 'Lisa', 'Mark', 'Misha', 'Petya']\n",
    "\n",
    "\n",
    "while len(new_list_guests) != 2:\n",
    "    for d in new_list_guests:\n",
    "        del_name = new_list_guests.pop(-1)        \n",
    "        print(del_name,\"I am sorry I can’t invite you to dinner.\")\n",
    "        \n",
    "for n in new_list_guests:\n",
    "    print(n, \"The invitation to dinner is valid.\")\n",
    "\n",
    "    \n"
   ]
  },
  {
   "cell_type": "code",
   "execution_count": 8,
   "metadata": {},
   "outputs": [
    {
     "data": {
      "text/plain": [
       "[]"
      ]
     },
     "execution_count": 8,
     "metadata": {},
     "output_type": "execute_result"
    }
   ],
   "source": [
    "del new_list_guests[:]\n",
    "new_list_guests"
   ]
  },
  {
   "cell_type": "code",
   "execution_count": null,
   "metadata": {},
   "outputs": [],
   "source": []
  }
 ],
 "metadata": {
  "kernelspec": {
   "display_name": "Python 3",
   "language": "python",
   "name": "python3"
  },
  "language_info": {
   "codemirror_mode": {
    "name": "ipython",
    "version": 3
   },
   "file_extension": ".py",
   "mimetype": "text/x-python",
   "name": "python",
   "nbconvert_exporter": "python",
   "pygments_lexer": "ipython3",
   "version": "3.7.0"
  }
 },
 "nbformat": 4,
 "nbformat_minor": 2
}
