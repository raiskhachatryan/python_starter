{
 "cells": [
  {
   "cell_type": "code",
   "execution_count": 1,
   "metadata": {},
   "outputs": [
    {
     "name": "stdout",
     "output_type": "stream",
     "text": [
      "dog\n",
      "cat\n",
      "elephant\n",
      "monkey\n"
     ]
    }
   ],
   "source": [
    "animals = [\"dog\", \"cat\", \"elephant\", \"monkey\"]\n",
    "for animal in animals:\n",
    "    print(animal)"
   ]
  },
  {
   "cell_type": "code",
   "execution_count": 2,
   "metadata": {},
   "outputs": [
    {
     "name": "stdout",
     "output_type": "stream",
     "text": [
      "A dog would make a great pet\n",
      "A cat would make a great pet\n",
      "A elephant would make a great pet\n",
      "A monkey would make a great pet\n",
      "Any of these animals would make a great pet!\n"
     ]
    }
   ],
   "source": [
    "for animal in animals:\n",
    "    print(\"A %s would make a great pet\"  %animal )\n",
    "print(\"Any of these animals would make a great pet!\")    \n",
    "    "
   ]
  },
  {
   "cell_type": "code",
   "execution_count": 3,
   "metadata": {},
   "outputs": [
    {
     "name": "stdout",
     "output_type": "stream",
     "text": [
      "500000500000\n"
     ]
    }
   ],
   "source": [
    "lst_num = []\n",
    "for i in range(1, 1000001):\n",
    "    lst_num.append(i)\n",
    "    \n",
    "lst_num_min = min(lst_num)\n",
    "lst_num_max = max(lst_num)\n",
    "sum_lst_num = sum(lst_num) \n",
    "print(sum_lst_num)\n",
    "\n",
    "\n",
    "    "
   ]
  },
  {
   "cell_type": "code",
   "execution_count": 4,
   "metadata": {},
   "outputs": [
    {
     "data": {
      "text/plain": [
       "[1, 3, 5, 7, 9, 11, 13, 15, 17, 19]"
      ]
     },
     "execution_count": 4,
     "metadata": {},
     "output_type": "execute_result"
    }
   ],
   "source": [
    "odd_num = [i for i in range(1,20,2) ]     # list comprehensions\n",
    "odd_num\n"
   ]
  },
  {
   "cell_type": "code",
   "execution_count": 5,
   "metadata": {},
   "outputs": [
    {
     "data": {
      "text/plain": [
       "[3, 6, 9, 12, 15, 18, 21, 24, 27, 30]"
      ]
     },
     "execution_count": 5,
     "metadata": {},
     "output_type": "execute_result"
    }
   ],
   "source": [
    "numbers = [i for i in range(3,31) if i % 3 == 0]\n",
    "numbers"
   ]
  },
  {
   "cell_type": "code",
   "execution_count": 6,
   "metadata": {},
   "outputs": [
    {
     "data": {
      "text/plain": [
       "[1, 8, 27, 64, 125, 216, 343, 512, 729]"
      ]
     },
     "execution_count": 6,
     "metadata": {},
     "output_type": "execute_result"
    }
   ],
   "source": [
    "cube = [i**3 for i in range(1, 10)]\n",
    "cube"
   ]
  },
  {
   "cell_type": "code",
   "execution_count": 7,
   "metadata": {},
   "outputs": [
    {
     "name": "stdout",
     "output_type": "stream",
     "text": [
      "The first three items in the list are: [1, 8, 27, 64]\n",
      "Three items from the middle of the list are: [125, 216, 343]\n",
      "The last three items in the list are: [729, 512, 343]\n"
     ]
    }
   ],
   "source": [
    "print(\"The first three items in the list are:\", cube[:4])\n",
    "print(\"Three items from the middle of the list are:\", cube[(len(cube)//2):len(cube)//2+3])\n",
    "print(\"The last three items in the list are:\", cube[:-4:-1])"
   ]
  },
  {
   "cell_type": "code",
   "execution_count": 8,
   "metadata": {},
   "outputs": [
    {
     "name": "stdout",
     "output_type": "stream",
     "text": [
      "Apple sauce\n",
      "Fried fish\n",
      "Haystack\n",
      "Steamed clams\n",
      "Salisbury steak\n"
     ]
    }
   ],
   "source": [
    "basic_foods = (\"Apple sauce\", \"Fried fish\", \"Haystack\", \"Steamed clams\", \"Salisbury steak\")   \n",
    "for foods in basic_foods:\n",
    "    print(foods)"
   ]
  },
  {
   "cell_type": "code",
   "execution_count": 9,
   "metadata": {},
   "outputs": [
    {
     "name": "stdout",
     "output_type": "stream",
     "text": [
      "\tOld menu\n",
      "Apple sauce\n",
      "Fried fish\n",
      "Haystack\n",
      "Steamed clams\n",
      "Salisbury steak\n",
      "\tNew menu\n",
      "Apple sauce\n",
      "Haystack\n",
      "Fajita\n",
      "Steamed clams\n",
      "Steak\n"
     ]
    }
   ],
   "source": [
    "print(\"\\tOld menu\")\n",
    "for foods in basic_foods:\n",
    "    print(foods)\n",
    "print(\"\\tNew menu\")    \n",
    "basic_foods = (\"Apple sauce\",  \"Haystack\",\"Fajita\", \"Steamed clams\", \"Steak\") \n",
    "for foods in basic_foods:\n",
    "    print(foods)"
   ]
  },
  {
   "cell_type": "code",
   "execution_count": null,
   "metadata": {},
   "outputs": [],
   "source": []
  }
 ],
 "metadata": {
  "kernelspec": {
   "display_name": "Python 3",
   "language": "python",
   "name": "python3"
  },
  "language_info": {
   "codemirror_mode": {
    "name": "ipython",
    "version": 3
   },
   "file_extension": ".py",
   "mimetype": "text/x-python",
   "name": "python",
   "nbconvert_exporter": "python",
   "pygments_lexer": "ipython3",
   "version": "3.7.0"
  }
 },
 "nbformat": 4,
 "nbformat_minor": 2
}
